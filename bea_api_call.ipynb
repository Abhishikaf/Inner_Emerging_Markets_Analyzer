{
 "cells": [
  {
   "cell_type": "code",
   "execution_count": 1,
   "id": "2faa1172-5aaf-4974-bc2d-6fd69abcdb0d",
   "metadata": {},
   "outputs": [],
   "source": [
    "#import required libraries\n",
    "\n",
    "import os\n",
    "import requests\n",
    "import json\n",
    "import pandas as pd\n",
    "from dotenv import load_dotenv\n",
    "from pathlib import Path\n",
    "# didn't install beasy yet, still working from basic api call\n",
    "# from beasy.beasy import Bea\n",
    "%matplotlib inline"
   ]
  },
  {
   "cell_type": "code",
   "execution_count": 2,
   "id": "d07ecae3-c70e-4fd4-86a6-dc7c0408d030",
   "metadata": {},
   "outputs": [
    {
     "data": {
      "text/plain": [
       "True"
      ]
     },
     "execution_count": 2,
     "metadata": {},
     "output_type": "execute_result"
    }
   ],
   "source": [
    "#load the API keys stored in .env file\n",
    "load_dotenv()"
   ]
  },
  {
   "cell_type": "code",
   "execution_count": 3,
   "id": "184db331-93c6-42b0-a51f-909ed810c261",
   "metadata": {},
   "outputs": [],
   "source": [
    "# https://apps.bea.gov/api/signup/index.cfm to signup for API key for Bureau of Economic Analysis\n",
    "\n",
    "# https://apps.bea.gov/api/_pdf/bea_web_service_api_user_guide.pdf for user guide"
   ]
  },
  {
   "cell_type": "code",
   "execution_count": 5,
   "id": "a7d45b78-efcc-4566-bd1e-848fc210eb2c",
   "metadata": {},
   "outputs": [],
   "source": [
    "#get BEA API key from .env file\n",
    "bea_api_key=os.getenv(\"BEA_API_KEY\")\n",
    "\n",
    "#Defining the beasy client to read the BEA Data using the Beasy API reader # disabled this temporarily\n",
    "# client = Bea(bea_api_key)"
   ]
  },
  {
   "cell_type": "code",
   "execution_count": 6,
   "id": "a63fe372-8db8-4f5c-b47b-4a37adeea256",
   "metadata": {},
   "outputs": [],
   "source": [
    "# set up query URL\n",
    "bea_url = \"http://apps.bea.gov/api/data?UserID=\" + bea_api_key + \"&method=GETDATASETLIST&ResultFormat=JSON\" "
   ]
  },
  {
   "cell_type": "code",
   "execution_count": 7,
   "id": "9ae14d8d-1bdc-4dae-b7a6-eb09579a98f6",
   "metadata": {},
   "outputs": [],
   "source": [
    "#send request to BEA\n",
    "bea_response = requests.get(bea_url).json()[\"BEAAPI\"][\"Results\"]"
   ]
  },
  {
   "cell_type": "code",
   "execution_count": 8,
   "id": "1b684eb9-4aa4-49c7-a708-215ba4ce6b58",
   "metadata": {},
   "outputs": [
    {
     "data": {
      "text/plain": [
       "{'Dataset': [{'DatasetName': 'NIPA',\n",
       "   'DatasetDescription': 'Standard NIPA tables'},\n",
       "  {'DatasetName': 'NIUnderlyingDetail',\n",
       "   'DatasetDescription': 'Standard NI underlying detail tables'},\n",
       "  {'DatasetName': 'MNE', 'DatasetDescription': 'Multinational Enterprises'},\n",
       "  {'DatasetName': 'FixedAssets',\n",
       "   'DatasetDescription': 'Standard Fixed Assets tables'},\n",
       "  {'DatasetName': 'ITA',\n",
       "   'DatasetDescription': 'International Transactions Accounts'},\n",
       "  {'DatasetName': 'IIP',\n",
       "   'DatasetDescription': 'International Investment Position'},\n",
       "  {'DatasetName': 'InputOutput', 'DatasetDescription': 'Input-Output Data'},\n",
       "  {'DatasetName': 'IntlServTrade',\n",
       "   'DatasetDescription': 'International Services Trade'},\n",
       "  {'DatasetName': 'GDPbyIndustry', 'DatasetDescription': 'GDP by Industry'},\n",
       "  {'DatasetName': 'Regional', 'DatasetDescription': 'Regional data sets'},\n",
       "  {'DatasetName': 'UnderlyingGDPbyIndustry',\n",
       "   'DatasetDescription': 'Underlying GDP by Industry'},\n",
       "  {'DatasetName': 'APIDatasetMetaData',\n",
       "   'DatasetDescription': 'Metadata about other API datasets'}]}"
      ]
     },
     "execution_count": 8,
     "metadata": {},
     "output_type": "execute_result"
    }
   ],
   "source": [
    "#review response\n",
    "bea_response\n"
   ]
  },
  {
   "cell_type": "code",
   "execution_count": 10,
   "id": "2037356e-d3cd-4792-b86c-41c1041c4658",
   "metadata": {},
   "outputs": [],
   "source": [
    "#Beasy client to get the BEA Data set list\n",
    "# client.getDatasetList()\n",
    "# disabled this temporarily"
   ]
  },
  {
   "cell_type": "code",
   "execution_count": 11,
   "id": "0e8c0741-1737-48ff-8b79-53b6f4820c93",
   "metadata": {},
   "outputs": [],
   "source": [
    "# the following code was used to test the response for regional data"
   ]
  },
  {
   "cell_type": "code",
   "execution_count": 12,
   "id": "1254312e-b69f-4461-a02d-7870aff0fffd",
   "metadata": {},
   "outputs": [],
   "source": [
    " bea_regional_url = \"http://apps.bea.gov/api/data?UserID=\" + bea_api_key + \"&method=getparameterlist&datasetname=Regional&ResultFormat=JSON\" "
   ]
  },
  {
   "cell_type": "code",
   "execution_count": 13,
   "id": "04f29689-1be0-4440-8dc3-eeae6cc1f744",
   "metadata": {},
   "outputs": [],
   "source": [
    " bea_regional_response = requests.get(bea_regional_url).json()[\"BEAAPI\"][\"Results\"]"
   ]
  },
  {
   "cell_type": "code",
   "execution_count": 14,
   "id": "6ef1522b-4661-4d52-84e1-7ed460a244dc",
   "metadata": {},
   "outputs": [
    {
     "data": {
      "text/plain": [
       "{'Parameter': [{'ParameterName': 'GeoFips',\n",
       "   'ParameterDataType': 'string',\n",
       "   'ParameterDescription': 'Comma-delimited list of 5-character geographic codes; COUNTY for all counties, STATE for all states, MSA for all MSAs, MIC for all Micropolitan Areas, PORT for all state metro/nonmetro portions, DIV for all Metropolitan Divisions, CSA for all Combined Statistical Areas, state post office abbreviation for all counties in one state (e.g. NY)',\n",
       "   'ParameterIsRequiredFlag': '1',\n",
       "   'MultipleAcceptedFlag': '1'},\n",
       "  {'ParameterName': 'LineCode',\n",
       "   'ParameterDataType': 'integer',\n",
       "   'ParameterDescription': 'Line code for a statistic or industry',\n",
       "   'ParameterIsRequiredFlag': '1',\n",
       "   'MultipleAcceptedFlag': '0'},\n",
       "  {'ParameterName': 'TableName',\n",
       "   'ParameterDataType': 'string',\n",
       "   'ParameterDescription': 'Regional income or product table to retrieve',\n",
       "   'ParameterIsRequiredFlag': '1',\n",
       "   'ParameterDefaultValue': '',\n",
       "   'MultipleAcceptedFlag': '0'},\n",
       "  {'ParameterName': 'Year',\n",
       "   'ParameterDataType': 'string',\n",
       "   'ParameterDescription': 'Comma-delimted list of years; LAST5 for latest 5 years; LAST10 for latest 10 years; ALL for all years',\n",
       "   'ParameterIsRequiredFlag': '0',\n",
       "   'ParameterDefaultValue': 'LAST5',\n",
       "   'MultipleAcceptedFlag': '1'}]}"
      ]
     },
     "execution_count": 14,
     "metadata": {},
     "output_type": "execute_result"
    }
   ],
   "source": [
    " bea_regional_response"
   ]
  },
  {
   "cell_type": "code",
   "execution_count": 15,
   "id": "c63423df-05f9-409c-b0bc-a6289d2caf06",
   "metadata": {},
   "outputs": [],
   "source": [
    "# the following code was used to get FIPS codes. May not be necessary but leaving it for now in case it is needed later."
   ]
  },
  {
   "cell_type": "code",
   "execution_count": 16,
   "id": "5b50157a-7d55-440f-b188-4f78ccece6c8",
   "metadata": {},
   "outputs": [],
   "source": [
    "# https://www.census.gov/geographies/reference-files/2016/demo/popest/2016-fips.html\n",
    "    \n",
    "# xml file location for GeoFIPS state and locality codes"
   ]
  },
  {
   "cell_type": "code",
   "execution_count": 17,
   "id": "95292944-8022-44db-b883-0e3b5db5ffd7",
   "metadata": {},
   "outputs": [],
   "source": [
    "# example api call from bea api instructions pdf, to be edited to get data for gdp per capita for all states\n",
    "\n",
    "# https://apps.bea.gov/api/data/?&UserID=Your-36CharacterKey&method=GetData&datasetname=Regional&TableName=CAINC1&LineCode=3&GeoFIPS=DE&Year=2014&ResultFormat=JSON\n",
    "                \n",
    "# the following is an attempt to get linecodes for a call.    \n",
    "    \n",
    "# https://apps.bea.gov/api/data/?&UserID=Your-36CharacterKey&method=GetData&datasetname=Regional&TableName=SQINC1&TargetParameter=Linecode&ResultFormat=JSON    "
   ]
  },
  {
   "cell_type": "code",
   "execution_count": 18,
   "id": "602648fa-da7b-4d21-bcf5-33441468c642",
   "metadata": {},
   "outputs": [],
   "source": [
    "# this one does not work, needs more parameters\n",
    "\n",
    "# bea_states_personal_income_linecode_query_url = \"http://apps.bea.gov/api/data?UserID=\" + bea_api_key + \"&method=GetData&datasetname=Regional&TableName=SAINC1&GeoFIPS=STATE&LineCode=1&Year=ALL&ResultFormat=JSON\""
   ]
  },
  {
   "cell_type": "code",
   "execution_count": null,
   "id": "225b359f-43bf-4f37-931e-750267717809",
   "metadata": {},
   "outputs": [],
   "source": []
  },
  {
   "cell_type": "code",
   "execution_count": 19,
   "id": "32eef5da-9177-4da0-8d31-756a4d462956",
   "metadata": {},
   "outputs": [],
   "source": [
    "# the following query works\n",
    "\n",
    "# querytest = \"http://apps.bea.gov/api/data?&UserID=\" + bea_api_key + \"&method=GetData&datasetname=Regional&TableName=SAINC1&GeoFIPS=STATE&LineCode=3&Year=2013&ResultFormat=JSON\""
   ]
  },
  {
   "cell_type": "code",
   "execution_count": 20,
   "id": "5b3dc281-9e4c-41a8-a4f7-fbbb91f92f6c",
   "metadata": {},
   "outputs": [],
   "source": [
    "# requests.get(querytest).json()"
   ]
  },
  {
   "cell_type": "code",
   "execution_count": 21,
   "id": "b7daf829-e94a-4527-81dd-9dc2afc3dc04",
   "metadata": {},
   "outputs": [],
   "source": [
    "# bea_personal_income_linecode_query_response = requests.get(bea_states_personal_income_linecode_query_url).json()"
   ]
  },
  {
   "cell_type": "code",
   "execution_count": 22,
   "id": "ed881e72-df3e-45f4-8487-dbac9513f0dd",
   "metadata": {},
   "outputs": [],
   "source": [
    "# bea__personal_income_linecode_query_response"
   ]
  },
  {
   "cell_type": "code",
   "execution_count": null,
   "id": "9f9014af-3f2a-4cda-a2c1-f768f355f445",
   "metadata": {},
   "outputs": [],
   "source": []
  },
  {
   "cell_type": "code",
   "execution_count": 23,
   "id": "f8261e33-6295-4585-82fc-e256773aca0f",
   "metadata": {},
   "outputs": [],
   "source": [
    "# the following code was written to extract FIPS codes. It may not be needed."
   ]
  },
  {
   "cell_type": "code",
   "execution_count": 24,
   "id": "673b0b5a-b5b7-4c4c-ab4d-aa850d8b4ebf",
   "metadata": {},
   "outputs": [],
   "source": [
    "# geofips_table = pd.read_excel(Path(\"./Resources/state-geocodes-v2016.xls\"))"
   ]
  },
  {
   "cell_type": "code",
   "execution_count": 25,
   "id": "06599723-ba5c-4480-94c9-aa89ddd4d11d",
   "metadata": {},
   "outputs": [],
   "source": [
    "#geofips_table"
   ]
  },
  {
   "cell_type": "code",
   "execution_count": 26,
   "id": "de266ea9-65f0-4367-ac5e-d653e24d0609",
   "metadata": {},
   "outputs": [],
   "source": [
    "# to view full geofips table in jupyter lab\n",
    "\n",
    "# geofips_table.to_csv(\"geofips.csv\")"
   ]
  },
  {
   "cell_type": "code",
   "execution_count": 27,
   "id": "ce4c4958-21cd-4e3d-8b8d-4eb3f6fc157f",
   "metadata": {},
   "outputs": [],
   "source": [
    "# Codes (from the BEA API instructions pdf):\n",
    "\n",
    "# SQINC1 Personal Income Summary: Personal Income, Population, Per Capita Personal Income by States\n",
    "\n",
    "# SQGDP9 Real GDP by state \n",
    "\n",
    "# SQGDP2 Gross domestic product (GDP) by state 2"
   ]
  },
  {
   "cell_type": "code",
   "execution_count": 28,
   "id": "0435531d-a8ec-49e6-abac-77814371b9a4",
   "metadata": {},
   "outputs": [],
   "source": [
    "# this query will get the data for all states for the last five years for personal income per capita.\n",
    "\n",
    "bea_states_personal_income_linecode_query_url = \"http://apps.bea.gov/api/data?UserID=\" + bea_api_key + \"&method=GetData&datasetname=Regional&TableName=SQINC1&GeoFIPS=STATE&LineCode=3&Year=LAST5&ResultFormat=JSON\""
   ]
  },
  {
   "cell_type": "code",
   "execution_count": 37,
   "id": "2f222739-152a-4ec5-bbbd-7683d198bf95",
   "metadata": {},
   "outputs": [],
   "source": [
    "#query for last five years personal income by state.\n",
    "personal_income_by_state_5year = pd.DataFrame(requests.get(bea_states_personal_income_linecode_query_url).json()[\"BEAAPI\"][\"Results\"][\"Data\"])"
   ]
  },
  {
   "cell_type": "code",
   "execution_count": 38,
   "id": "de31de4a-8a1d-4852-9afa-cdbc03899c1f",
   "metadata": {},
   "outputs": [
    {
     "data": {
      "text/html": [
       "<div>\n",
       "<style scoped>\n",
       "    .dataframe tbody tr th:only-of-type {\n",
       "        vertical-align: middle;\n",
       "    }\n",
       "\n",
       "    .dataframe tbody tr th {\n",
       "        vertical-align: top;\n",
       "    }\n",
       "\n",
       "    .dataframe thead th {\n",
       "        text-align: right;\n",
       "    }\n",
       "</style>\n",
       "<table border=\"1\" class=\"dataframe\">\n",
       "  <thead>\n",
       "    <tr style=\"text-align: right;\">\n",
       "      <th></th>\n",
       "      <th>Code</th>\n",
       "      <th>GeoFips</th>\n",
       "      <th>GeoName</th>\n",
       "      <th>TimePeriod</th>\n",
       "      <th>CL_UNIT</th>\n",
       "      <th>UNIT_MULT</th>\n",
       "      <th>DataValue</th>\n",
       "      <th>NoteRef</th>\n",
       "    </tr>\n",
       "  </thead>\n",
       "  <tbody>\n",
       "    <tr>\n",
       "      <th>0</th>\n",
       "      <td>SQINC1-3</td>\n",
       "      <td>00000</td>\n",
       "      <td>United States</td>\n",
       "      <td>2018Q4</td>\n",
       "      <td>Dollars</td>\n",
       "      <td>0</td>\n",
       "      <td>54,874</td>\n",
       "      <td>NaN</td>\n",
       "    </tr>\n",
       "    <tr>\n",
       "      <th>1</th>\n",
       "      <td>SQINC1-3</td>\n",
       "      <td>00000</td>\n",
       "      <td>United States</td>\n",
       "      <td>2018Q3</td>\n",
       "      <td>Dollars</td>\n",
       "      <td>0</td>\n",
       "      <td>54,409</td>\n",
       "      <td>NaN</td>\n",
       "    </tr>\n",
       "    <tr>\n",
       "      <th>2</th>\n",
       "      <td>SQINC1-3</td>\n",
       "      <td>00000</td>\n",
       "      <td>United States</td>\n",
       "      <td>2018Q2</td>\n",
       "      <td>Dollars</td>\n",
       "      <td>0</td>\n",
       "      <td>53,807</td>\n",
       "      <td>NaN</td>\n",
       "    </tr>\n",
       "    <tr>\n",
       "      <th>3</th>\n",
       "      <td>SQINC1-3</td>\n",
       "      <td>00000</td>\n",
       "      <td>United States</td>\n",
       "      <td>2018Q1</td>\n",
       "      <td>Dollars</td>\n",
       "      <td>0</td>\n",
       "      <td>53,287</td>\n",
       "      <td>NaN</td>\n",
       "    </tr>\n",
       "    <tr>\n",
       "      <th>4</th>\n",
       "      <td>SQINC1-3</td>\n",
       "      <td>00000</td>\n",
       "      <td>United States</td>\n",
       "      <td>2017Q1</td>\n",
       "      <td>Dollars</td>\n",
       "      <td>0</td>\n",
       "      <td>51,018</td>\n",
       "      <td>NaN</td>\n",
       "    </tr>\n",
       "    <tr>\n",
       "      <th>...</th>\n",
       "      <td>...</td>\n",
       "      <td>...</td>\n",
       "      <td>...</td>\n",
       "      <td>...</td>\n",
       "      <td>...</td>\n",
       "      <td>...</td>\n",
       "      <td>...</td>\n",
       "      <td>...</td>\n",
       "    </tr>\n",
       "    <tr>\n",
       "      <th>1075</th>\n",
       "      <td>SQINC1-3</td>\n",
       "      <td>98000</td>\n",
       "      <td>Far West</td>\n",
       "      <td>2021Q2</td>\n",
       "      <td>Dollars</td>\n",
       "      <td>0</td>\n",
       "      <td>71,090</td>\n",
       "      <td>NaN</td>\n",
       "    </tr>\n",
       "    <tr>\n",
       "      <th>1076</th>\n",
       "      <td>SQINC1-3</td>\n",
       "      <td>98000</td>\n",
       "      <td>Far West</td>\n",
       "      <td>2018Q4</td>\n",
       "      <td>Dollars</td>\n",
       "      <td>0</td>\n",
       "      <td>60,639</td>\n",
       "      <td>NaN</td>\n",
       "    </tr>\n",
       "    <tr>\n",
       "      <th>1077</th>\n",
       "      <td>SQINC1-3</td>\n",
       "      <td>98000</td>\n",
       "      <td>Far West</td>\n",
       "      <td>2018Q3</td>\n",
       "      <td>Dollars</td>\n",
       "      <td>0</td>\n",
       "      <td>60,178</td>\n",
       "      <td>NaN</td>\n",
       "    </tr>\n",
       "    <tr>\n",
       "      <th>1078</th>\n",
       "      <td>SQINC1-3</td>\n",
       "      <td>98000</td>\n",
       "      <td>Far West</td>\n",
       "      <td>2018Q2</td>\n",
       "      <td>Dollars</td>\n",
       "      <td>0</td>\n",
       "      <td>59,483</td>\n",
       "      <td>NaN</td>\n",
       "    </tr>\n",
       "    <tr>\n",
       "      <th>1079</th>\n",
       "      <td>SQINC1-3</td>\n",
       "      <td>98000</td>\n",
       "      <td>Far West</td>\n",
       "      <td>2018Q1</td>\n",
       "      <td>Dollars</td>\n",
       "      <td>0</td>\n",
       "      <td>58,819</td>\n",
       "      <td>NaN</td>\n",
       "    </tr>\n",
       "  </tbody>\n",
       "</table>\n",
       "<p>1080 rows × 8 columns</p>\n",
       "</div>"
      ],
      "text/plain": [
       "          Code GeoFips        GeoName TimePeriod  CL_UNIT UNIT_MULT DataValue  \\\n",
       "0     SQINC1-3   00000  United States     2018Q4  Dollars         0    54,874   \n",
       "1     SQINC1-3   00000  United States     2018Q3  Dollars         0    54,409   \n",
       "2     SQINC1-3   00000  United States     2018Q2  Dollars         0    53,807   \n",
       "3     SQINC1-3   00000  United States     2018Q1  Dollars         0    53,287   \n",
       "4     SQINC1-3   00000  United States     2017Q1  Dollars         0    51,018   \n",
       "...        ...     ...            ...        ...      ...       ...       ...   \n",
       "1075  SQINC1-3   98000       Far West     2021Q2  Dollars         0    71,090   \n",
       "1076  SQINC1-3   98000       Far West     2018Q4  Dollars         0    60,639   \n",
       "1077  SQINC1-3   98000       Far West     2018Q3  Dollars         0    60,178   \n",
       "1078  SQINC1-3   98000       Far West     2018Q2  Dollars         0    59,483   \n",
       "1079  SQINC1-3   98000       Far West     2018Q1  Dollars         0    58,819   \n",
       "\n",
       "     NoteRef  \n",
       "0        NaN  \n",
       "1        NaN  \n",
       "2        NaN  \n",
       "3        NaN  \n",
       "4        NaN  \n",
       "...      ...  \n",
       "1075     NaN  \n",
       "1076     NaN  \n",
       "1077     NaN  \n",
       "1078     NaN  \n",
       "1079     NaN  \n",
       "\n",
       "[1080 rows x 8 columns]"
      ]
     },
     "execution_count": 38,
     "metadata": {},
     "output_type": "execute_result"
    }
   ],
   "source": [
    "#review the results of the query\n",
    "personal_income_by_state_5year"
   ]
  },
  {
   "cell_type": "code",
   "execution_count": 39,
   "id": "d7895c48-e891-4c5e-98c2-dbf8f0e734b2",
   "metadata": {},
   "outputs": [],
   "source": [
    "# Using the Beasy client to read the Personal Income data from the BEA API\n",
    "\n",
    "# client.Regional.getData(TableName='SQINC1', LineCode='3', GeoFIPS='STATE', Year='LAST5')"
   ]
  },
  {
   "cell_type": "code",
   "execution_count": 40,
   "id": "53b282ce-e151-4357-9f39-3112d56985ab",
   "metadata": {},
   "outputs": [
    {
     "data": {
      "text/html": [
       "<div>\n",
       "<style scoped>\n",
       "    .dataframe tbody tr th:only-of-type {\n",
       "        vertical-align: middle;\n",
       "    }\n",
       "\n",
       "    .dataframe tbody tr th {\n",
       "        vertical-align: top;\n",
       "    }\n",
       "\n",
       "    .dataframe thead th {\n",
       "        text-align: right;\n",
       "    }\n",
       "</style>\n",
       "<table border=\"1\" class=\"dataframe\">\n",
       "  <thead>\n",
       "    <tr style=\"text-align: right;\">\n",
       "      <th></th>\n",
       "      <th>GeoName</th>\n",
       "      <th>TimePeriod</th>\n",
       "      <th>DataValue</th>\n",
       "    </tr>\n",
       "  </thead>\n",
       "  <tbody>\n",
       "    <tr>\n",
       "      <th>0</th>\n",
       "      <td>United States</td>\n",
       "      <td>2018Q4</td>\n",
       "      <td>54,874</td>\n",
       "    </tr>\n",
       "    <tr>\n",
       "      <th>1</th>\n",
       "      <td>United States</td>\n",
       "      <td>2018Q3</td>\n",
       "      <td>54,409</td>\n",
       "    </tr>\n",
       "    <tr>\n",
       "      <th>2</th>\n",
       "      <td>United States</td>\n",
       "      <td>2018Q2</td>\n",
       "      <td>53,807</td>\n",
       "    </tr>\n",
       "    <tr>\n",
       "      <th>3</th>\n",
       "      <td>United States</td>\n",
       "      <td>2018Q1</td>\n",
       "      <td>53,287</td>\n",
       "    </tr>\n",
       "    <tr>\n",
       "      <th>4</th>\n",
       "      <td>United States</td>\n",
       "      <td>2017Q1</td>\n",
       "      <td>51,018</td>\n",
       "    </tr>\n",
       "    <tr>\n",
       "      <th>...</th>\n",
       "      <td>...</td>\n",
       "      <td>...</td>\n",
       "      <td>...</td>\n",
       "    </tr>\n",
       "    <tr>\n",
       "      <th>1075</th>\n",
       "      <td>Far West</td>\n",
       "      <td>2021Q2</td>\n",
       "      <td>71,090</td>\n",
       "    </tr>\n",
       "    <tr>\n",
       "      <th>1076</th>\n",
       "      <td>Far West</td>\n",
       "      <td>2018Q4</td>\n",
       "      <td>60,639</td>\n",
       "    </tr>\n",
       "    <tr>\n",
       "      <th>1077</th>\n",
       "      <td>Far West</td>\n",
       "      <td>2018Q3</td>\n",
       "      <td>60,178</td>\n",
       "    </tr>\n",
       "    <tr>\n",
       "      <th>1078</th>\n",
       "      <td>Far West</td>\n",
       "      <td>2018Q2</td>\n",
       "      <td>59,483</td>\n",
       "    </tr>\n",
       "    <tr>\n",
       "      <th>1079</th>\n",
       "      <td>Far West</td>\n",
       "      <td>2018Q1</td>\n",
       "      <td>58,819</td>\n",
       "    </tr>\n",
       "  </tbody>\n",
       "</table>\n",
       "<p>1080 rows × 3 columns</p>\n",
       "</div>"
      ],
      "text/plain": [
       "            GeoName TimePeriod DataValue\n",
       "0     United States     2018Q4    54,874\n",
       "1     United States     2018Q3    54,409\n",
       "2     United States     2018Q2    53,807\n",
       "3     United States     2018Q1    53,287\n",
       "4     United States     2017Q1    51,018\n",
       "...             ...        ...       ...\n",
       "1075       Far West     2021Q2    71,090\n",
       "1076       Far West     2018Q4    60,639\n",
       "1077       Far West     2018Q3    60,178\n",
       "1078       Far West     2018Q2    59,483\n",
       "1079       Far West     2018Q1    58,819\n",
       "\n",
       "[1080 rows x 3 columns]"
      ]
     },
     "execution_count": 40,
     "metadata": {},
     "output_type": "execute_result"
    }
   ],
   "source": [
    "# clip out the unnecessary columns\n",
    "personal_income_by_state_5year=personal_income_by_state_5year[[\"GeoName\", \"TimePeriod\", \"DataValue\"]]\n",
    "personal_income_by_state_5year\n"
   ]
  },
  {
   "cell_type": "code",
   "execution_count": 41,
   "id": "314936e1-90ed-4cc0-aea7-d2f457399839",
   "metadata": {},
   "outputs": [],
   "source": [
    "# data cleaning: change time periods to be .25 for Q1, etc\n",
    "# change the comma format numbers to float"
   ]
  },
  {
   "cell_type": "code",
   "execution_count": 42,
   "id": "04097408-6a67-47c7-8f7b-d7dddfa1dfd1",
   "metadata": {},
   "outputs": [],
   "source": [
    "\n",
    "\n",
    "# personal_income_by_state_5year_unsorted[\"DataValue\"] = float(personal_income_by_state_5year_unsorted[\"DataValue\"].replace(\",\", \"\"))"
   ]
  },
  {
   "cell_type": "code",
   "execution_count": 89,
   "id": "dd07a1f9-2fe9-4c93-ba36-2b9541089e46",
   "metadata": {},
   "outputs": [
    {
     "ename": "AttributeError",
     "evalue": "Can only use .str accessor with string values!",
     "output_type": "error",
     "traceback": [
      "\u001b[1;31m---------------------------------------------------------------------------\u001b[0m",
      "\u001b[1;31mAttributeError\u001b[0m                            Traceback (most recent call last)",
      "\u001b[1;32m<ipython-input-89-40b25295f545>\u001b[0m in \u001b[0;36m<module>\u001b[1;34m\u001b[0m\n\u001b[0;32m      1\u001b[0m \u001b[1;31m# Used str.replace() to remove the ',' from the Income datavalue and convert to float from string\u001b[0m\u001b[1;33m\u001b[0m\u001b[1;33m\u001b[0m\u001b[1;33m\u001b[0m\u001b[0m\n\u001b[0;32m      2\u001b[0m \u001b[1;33m\u001b[0m\u001b[0m\n\u001b[1;32m----> 3\u001b[1;33m \u001b[0mpersonal_income_by_state_5year\u001b[0m\u001b[1;33m[\u001b[0m\u001b[1;34m'DataValue'\u001b[0m\u001b[1;33m]\u001b[0m \u001b[1;33m=\u001b[0m \u001b[0mpersonal_income_by_state_5year\u001b[0m\u001b[1;33m[\u001b[0m\u001b[1;34m'DataValue'\u001b[0m\u001b[1;33m]\u001b[0m\u001b[1;33m.\u001b[0m\u001b[0mstr\u001b[0m\u001b[1;33m.\u001b[0m\u001b[0mreplace\u001b[0m\u001b[1;33m(\u001b[0m\u001b[1;34m','\u001b[0m\u001b[1;33m,\u001b[0m \u001b[1;34m''\u001b[0m\u001b[1;33m)\u001b[0m\u001b[1;33m.\u001b[0m\u001b[0mastype\u001b[0m\u001b[1;33m(\u001b[0m\u001b[1;34m'float'\u001b[0m\u001b[1;33m)\u001b[0m\u001b[1;33m\u001b[0m\u001b[1;33m\u001b[0m\u001b[0m\n\u001b[0m\u001b[0;32m      4\u001b[0m \u001b[0mpersonal_income_by_state_5year\u001b[0m\u001b[1;33m\u001b[0m\u001b[1;33m\u001b[0m\u001b[0m\n",
      "\u001b[1;32m~\\anaconda3\\envs\\dev\\lib\\site-packages\\pandas\\core\\generic.py\u001b[0m in \u001b[0;36m__getattr__\u001b[1;34m(self, name)\u001b[0m\n\u001b[0;32m   5459\u001b[0m             \u001b[1;32mor\u001b[0m \u001b[0mname\u001b[0m \u001b[1;32min\u001b[0m \u001b[0mself\u001b[0m\u001b[1;33m.\u001b[0m\u001b[0m_accessors\u001b[0m\u001b[1;33m\u001b[0m\u001b[1;33m\u001b[0m\u001b[0m\n\u001b[0;32m   5460\u001b[0m         ):\n\u001b[1;32m-> 5461\u001b[1;33m             \u001b[1;32mreturn\u001b[0m \u001b[0mobject\u001b[0m\u001b[1;33m.\u001b[0m\u001b[0m__getattribute__\u001b[0m\u001b[1;33m(\u001b[0m\u001b[0mself\u001b[0m\u001b[1;33m,\u001b[0m \u001b[0mname\u001b[0m\u001b[1;33m)\u001b[0m\u001b[1;33m\u001b[0m\u001b[1;33m\u001b[0m\u001b[0m\n\u001b[0m\u001b[0;32m   5462\u001b[0m         \u001b[1;32melse\u001b[0m\u001b[1;33m:\u001b[0m\u001b[1;33m\u001b[0m\u001b[1;33m\u001b[0m\u001b[0m\n\u001b[0;32m   5463\u001b[0m             \u001b[1;32mif\u001b[0m \u001b[0mself\u001b[0m\u001b[1;33m.\u001b[0m\u001b[0m_info_axis\u001b[0m\u001b[1;33m.\u001b[0m\u001b[0m_can_hold_identifiers_and_holds_name\u001b[0m\u001b[1;33m(\u001b[0m\u001b[0mname\u001b[0m\u001b[1;33m)\u001b[0m\u001b[1;33m:\u001b[0m\u001b[1;33m\u001b[0m\u001b[1;33m\u001b[0m\u001b[0m\n",
      "\u001b[1;32m~\\anaconda3\\envs\\dev\\lib\\site-packages\\pandas\\core\\accessor.py\u001b[0m in \u001b[0;36m__get__\u001b[1;34m(self, obj, cls)\u001b[0m\n\u001b[0;32m    178\u001b[0m             \u001b[1;31m# we're accessing the attribute of the class, i.e., Dataset.geo\u001b[0m\u001b[1;33m\u001b[0m\u001b[1;33m\u001b[0m\u001b[1;33m\u001b[0m\u001b[0m\n\u001b[0;32m    179\u001b[0m             \u001b[1;32mreturn\u001b[0m \u001b[0mself\u001b[0m\u001b[1;33m.\u001b[0m\u001b[0m_accessor\u001b[0m\u001b[1;33m\u001b[0m\u001b[1;33m\u001b[0m\u001b[0m\n\u001b[1;32m--> 180\u001b[1;33m         \u001b[0maccessor_obj\u001b[0m \u001b[1;33m=\u001b[0m \u001b[0mself\u001b[0m\u001b[1;33m.\u001b[0m\u001b[0m_accessor\u001b[0m\u001b[1;33m(\u001b[0m\u001b[0mobj\u001b[0m\u001b[1;33m)\u001b[0m\u001b[1;33m\u001b[0m\u001b[1;33m\u001b[0m\u001b[0m\n\u001b[0m\u001b[0;32m    181\u001b[0m         \u001b[1;31m# Replace the property with the accessor object. Inspired by:\u001b[0m\u001b[1;33m\u001b[0m\u001b[1;33m\u001b[0m\u001b[1;33m\u001b[0m\u001b[0m\n\u001b[0;32m    182\u001b[0m         \u001b[1;31m# https://www.pydanny.com/cached-property.html\u001b[0m\u001b[1;33m\u001b[0m\u001b[1;33m\u001b[0m\u001b[1;33m\u001b[0m\u001b[0m\n",
      "\u001b[1;32m~\\anaconda3\\envs\\dev\\lib\\site-packages\\pandas\\core\\strings\\accessor.py\u001b[0m in \u001b[0;36m__init__\u001b[1;34m(self, data)\u001b[0m\n\u001b[0;32m    152\u001b[0m         \u001b[1;32mfrom\u001b[0m \u001b[0mpandas\u001b[0m\u001b[1;33m.\u001b[0m\u001b[0mcore\u001b[0m\u001b[1;33m.\u001b[0m\u001b[0marrays\u001b[0m\u001b[1;33m.\u001b[0m\u001b[0mstring_\u001b[0m \u001b[1;32mimport\u001b[0m \u001b[0mStringDtype\u001b[0m\u001b[1;33m\u001b[0m\u001b[1;33m\u001b[0m\u001b[0m\n\u001b[0;32m    153\u001b[0m \u001b[1;33m\u001b[0m\u001b[0m\n\u001b[1;32m--> 154\u001b[1;33m         \u001b[0mself\u001b[0m\u001b[1;33m.\u001b[0m\u001b[0m_inferred_dtype\u001b[0m \u001b[1;33m=\u001b[0m \u001b[0mself\u001b[0m\u001b[1;33m.\u001b[0m\u001b[0m_validate\u001b[0m\u001b[1;33m(\u001b[0m\u001b[0mdata\u001b[0m\u001b[1;33m)\u001b[0m\u001b[1;33m\u001b[0m\u001b[1;33m\u001b[0m\u001b[0m\n\u001b[0m\u001b[0;32m    155\u001b[0m         \u001b[0mself\u001b[0m\u001b[1;33m.\u001b[0m\u001b[0m_is_categorical\u001b[0m \u001b[1;33m=\u001b[0m \u001b[0mis_categorical_dtype\u001b[0m\u001b[1;33m(\u001b[0m\u001b[0mdata\u001b[0m\u001b[1;33m.\u001b[0m\u001b[0mdtype\u001b[0m\u001b[1;33m)\u001b[0m\u001b[1;33m\u001b[0m\u001b[1;33m\u001b[0m\u001b[0m\n\u001b[0;32m    156\u001b[0m         \u001b[0mself\u001b[0m\u001b[1;33m.\u001b[0m\u001b[0m_is_string\u001b[0m \u001b[1;33m=\u001b[0m \u001b[0misinstance\u001b[0m\u001b[1;33m(\u001b[0m\u001b[0mdata\u001b[0m\u001b[1;33m.\u001b[0m\u001b[0mdtype\u001b[0m\u001b[1;33m,\u001b[0m \u001b[0mStringDtype\u001b[0m\u001b[1;33m)\u001b[0m\u001b[1;33m\u001b[0m\u001b[1;33m\u001b[0m\u001b[0m\n",
      "\u001b[1;32m~\\anaconda3\\envs\\dev\\lib\\site-packages\\pandas\\core\\strings\\accessor.py\u001b[0m in \u001b[0;36m_validate\u001b[1;34m(data)\u001b[0m\n\u001b[0;32m    215\u001b[0m \u001b[1;33m\u001b[0m\u001b[0m\n\u001b[0;32m    216\u001b[0m         \u001b[1;32mif\u001b[0m \u001b[0minferred_dtype\u001b[0m \u001b[1;32mnot\u001b[0m \u001b[1;32min\u001b[0m \u001b[0mallowed_types\u001b[0m\u001b[1;33m:\u001b[0m\u001b[1;33m\u001b[0m\u001b[1;33m\u001b[0m\u001b[0m\n\u001b[1;32m--> 217\u001b[1;33m             \u001b[1;32mraise\u001b[0m \u001b[0mAttributeError\u001b[0m\u001b[1;33m(\u001b[0m\u001b[1;34m\"Can only use .str accessor with string values!\"\u001b[0m\u001b[1;33m)\u001b[0m\u001b[1;33m\u001b[0m\u001b[1;33m\u001b[0m\u001b[0m\n\u001b[0m\u001b[0;32m    218\u001b[0m         \u001b[1;32mreturn\u001b[0m \u001b[0minferred_dtype\u001b[0m\u001b[1;33m\u001b[0m\u001b[1;33m\u001b[0m\u001b[0m\n\u001b[0;32m    219\u001b[0m \u001b[1;33m\u001b[0m\u001b[0m\n",
      "\u001b[1;31mAttributeError\u001b[0m: Can only use .str accessor with string values!"
     ]
    }
   ],
   "source": [
    "# Used str.replace() to remove the ',' from the Income datavalue and convert to float from string\n",
    "\n",
    "personal_income_by_state_5year['DataValue'] = personal_income_by_state_5year['DataValue'].str.replace(',', '').astype('float')\n",
    "personal_income_by_state_5year"
   ]
  },
  {
   "cell_type": "code",
   "execution_count": 90,
   "id": "545d915e-6644-4820-ab58-9c7c22a7eb29",
   "metadata": {},
   "outputs": [
    {
     "name": "stdout",
     "output_type": "stream",
     "text": [
      "     GeoName TimePeriod  DataValue\n",
      "18   Alabama     2020Q1    45031.0\n",
      "19   Alabama     2020Q2    48797.0\n",
      "20   Alabama     2020Q3    46288.0\n",
      "21   Alabama     2020Q4    45736.0\n",
      "22   Alabama     2019Q1    43530.0\n",
      "..       ...        ...        ...\n",
      "931  Wyoming     2017Q2    56299.0\n",
      "932  Wyoming     2017Q3    57082.0\n",
      "933  Wyoming     2017Q4    58031.0\n",
      "934  Wyoming     2021Q1    68028.0\n",
      "935  Wyoming     2021Q2    63589.0\n",
      "\n",
      "[864 rows x 3 columns]\n"
     ]
    }
   ],
   "source": [
    "# Filter the dataframe to get just the states\n",
    "\n",
    "list_of_states = [ 'Alabama', 'Alaska', 'Arizona', 'Arkansas', 'California', 'Colorado', 'Connecticut', 'Delaware', 'Florida', 'Georgia',                            'Hawaii', 'Idaho', 'Illinois', 'Indiana', 'Iowa', 'Kansas', 'Kentucky', 'Louisiana', 'Maine', 'Maryland', 'Massachusetts',                        'Michigan', 'Minnesota', 'Mississippi', 'Missouri', 'Montana', 'Nebraska', 'Nevada', 'New Hampshire', 'New Jersey', \n",
    "                   'New Mexico', 'New York', 'North Carolina', 'North Dakota', 'Ohio', 'Oklahoma', 'Oregon', 'Pennsylvania', 'Rhode Island',\n",
    "                   'South Carolina', 'South Dakota', 'Tennessee', 'Texas', 'Utah', 'Vermont', 'Virginia', 'Washington', 'West Virginia',                            'Wisconsin', 'Wyoming']\n",
    "\n",
    "personal_income_state_filter = personal_income_by_state_5year['GeoName'].isin(list_of_states)\n",
    "personal_income_filter_by_state = personal_income_by_state_5year[personal_income_state_filter]\n",
    "print(personal_income_filter_by_state)"
   ]
  },
  {
   "cell_type": "code",
   "execution_count": 91,
   "id": "9f193c88-69af-4596-9bfb-d204a07d9493",
   "metadata": {},
   "outputs": [
    {
     "data": {
      "text/html": [
       "<div>\n",
       "<style scoped>\n",
       "    .dataframe tbody tr th:only-of-type {\n",
       "        vertical-align: middle;\n",
       "    }\n",
       "\n",
       "    .dataframe tbody tr th {\n",
       "        vertical-align: top;\n",
       "    }\n",
       "\n",
       "    .dataframe thead th {\n",
       "        text-align: right;\n",
       "    }\n",
       "</style>\n",
       "<table border=\"1\" class=\"dataframe\">\n",
       "  <thead>\n",
       "    <tr style=\"text-align: right;\">\n",
       "      <th></th>\n",
       "      <th>GeoName</th>\n",
       "      <th>TimePeriod</th>\n",
       "      <th>DataValue</th>\n",
       "    </tr>\n",
       "  </thead>\n",
       "  <tbody>\n",
       "    <tr>\n",
       "      <th>18</th>\n",
       "      <td>Alabama</td>\n",
       "      <td>2020Q1</td>\n",
       "      <td>45031.0</td>\n",
       "    </tr>\n",
       "    <tr>\n",
       "      <th>19</th>\n",
       "      <td>Alabama</td>\n",
       "      <td>2020Q2</td>\n",
       "      <td>48797.0</td>\n",
       "    </tr>\n",
       "    <tr>\n",
       "      <th>20</th>\n",
       "      <td>Alabama</td>\n",
       "      <td>2020Q3</td>\n",
       "      <td>46288.0</td>\n",
       "    </tr>\n",
       "    <tr>\n",
       "      <th>21</th>\n",
       "      <td>Alabama</td>\n",
       "      <td>2020Q4</td>\n",
       "      <td>45736.0</td>\n",
       "    </tr>\n",
       "    <tr>\n",
       "      <th>22</th>\n",
       "      <td>Alabama</td>\n",
       "      <td>2019Q1</td>\n",
       "      <td>43530.0</td>\n",
       "    </tr>\n",
       "    <tr>\n",
       "      <th>...</th>\n",
       "      <td>...</td>\n",
       "      <td>...</td>\n",
       "      <td>...</td>\n",
       "    </tr>\n",
       "    <tr>\n",
       "      <th>931</th>\n",
       "      <td>Wyoming</td>\n",
       "      <td>2017Q2</td>\n",
       "      <td>56299.0</td>\n",
       "    </tr>\n",
       "    <tr>\n",
       "      <th>932</th>\n",
       "      <td>Wyoming</td>\n",
       "      <td>2017Q3</td>\n",
       "      <td>57082.0</td>\n",
       "    </tr>\n",
       "    <tr>\n",
       "      <th>933</th>\n",
       "      <td>Wyoming</td>\n",
       "      <td>2017Q4</td>\n",
       "      <td>58031.0</td>\n",
       "    </tr>\n",
       "    <tr>\n",
       "      <th>934</th>\n",
       "      <td>Wyoming</td>\n",
       "      <td>2021Q1</td>\n",
       "      <td>68028.0</td>\n",
       "    </tr>\n",
       "    <tr>\n",
       "      <th>935</th>\n",
       "      <td>Wyoming</td>\n",
       "      <td>2021Q2</td>\n",
       "      <td>63589.0</td>\n",
       "    </tr>\n",
       "  </tbody>\n",
       "</table>\n",
       "<p>864 rows × 3 columns</p>\n",
       "</div>"
      ],
      "text/plain": [
       "     GeoName TimePeriod  DataValue\n",
       "18   Alabama     2020Q1    45031.0\n",
       "19   Alabama     2020Q2    48797.0\n",
       "20   Alabama     2020Q3    46288.0\n",
       "21   Alabama     2020Q4    45736.0\n",
       "22   Alabama     2019Q1    43530.0\n",
       "..       ...        ...        ...\n",
       "931  Wyoming     2017Q2    56299.0\n",
       "932  Wyoming     2017Q3    57082.0\n",
       "933  Wyoming     2017Q4    58031.0\n",
       "934  Wyoming     2021Q1    68028.0\n",
       "935  Wyoming     2021Q2    63589.0\n",
       "\n",
       "[864 rows x 3 columns]"
      ]
     },
     "execution_count": 91,
     "metadata": {},
     "output_type": "execute_result"
    }
   ],
   "source": [
    "personal_income_filter_by_state"
   ]
  },
  {
   "cell_type": "code",
   "execution_count": 100,
   "id": "94fc3c63-35e5-41d0-956a-5990fecca3c1",
   "metadata": {},
   "outputs": [],
   "source": [
    "# Calculating a float equivalent of the quarters by iterating into the dataframe\n",
    "personal_income_by_state_time_wt = personal_income_filter_by_state\n",
    "# Couldn't get any of this working.\n",
    "\n",
    "# code that was hard to get working\n",
    "# for row in personal_income_by_state_time_wt.iterrows():\n",
    "#     if 'Q1' in row[\"TimePeriod\"]:\n",
    "#         row[\"TimePeriod\"]=float(row[\"TimePeriod\"].replace('Q1', \".25\"))\n",
    "#     elif 'Q2' in row[\"TimePeriod\"]:\n",
    "#         row[\"TimePeriod\"]=float(row[\"TimePeriod\"].replace('Q2', \".5\"))\n",
    "#     elif 'Q3' in row[\"TimePeriod\"]:\n",
    "#         row[\"TimePeriod\"]=float(row[\"TimePeriod\"].replace('Q3', \".75\"))\n",
    "#     elif 'Q4' in row[\"TimePeriod\"]:\n",
    "#         row[\"TimePeriod\"]=float(row[\"TimePeriod\"].replace('Q4', \"\")) + 1\n",
    "#     row[\"TimePeriod\"]\n",
    "\n",
    "    \n",
    "#     example to be used to model how to do this\n",
    "#     dataUS = pd.DataFrame({'sec_type': ['LOCAL', 'Sample text LOCAL', 'Sample text LOCAL sample FOREIGN']})\n",
    "\n",
    "# replacement = {\n",
    "#     \"LOCAL\": \"CORP\",\n",
    "#     \"FOREIGN\": \"CORP\",\n",
    "#     \"HELLO\": \"CORP\"\n",
    "# }\n",
    "\n",
    "# dataUS['sec_type'].replace(replacement, regex=True)\n",
    "    \n",
    "\n",
    "# personal_income_by_state_time_wt[\"TimePeriod\"].str.replace(\"Q1\", \".25\", regex=True)    \n",
    "    \n",
    "    \n",
    "# personal_income_by_state_time_wt[\"TimePeriod\"]\n",
    "        "
   ]
  },
  {
   "cell_type": "code",
   "execution_count": 101,
   "id": "ad5745b7-5b27-4efe-a09f-3c3db5bf66d7",
   "metadata": {},
   "outputs": [
    {
     "data": {
      "text/html": [
       "<div>\n",
       "<style scoped>\n",
       "    .dataframe tbody tr th:only-of-type {\n",
       "        vertical-align: middle;\n",
       "    }\n",
       "\n",
       "    .dataframe tbody tr th {\n",
       "        vertical-align: top;\n",
       "    }\n",
       "\n",
       "    .dataframe thead th {\n",
       "        text-align: right;\n",
       "    }\n",
       "</style>\n",
       "<table border=\"1\" class=\"dataframe\">\n",
       "  <thead>\n",
       "    <tr style=\"text-align: right;\">\n",
       "      <th></th>\n",
       "      <th>GeoName</th>\n",
       "      <th>DataValue</th>\n",
       "    </tr>\n",
       "    <tr>\n",
       "      <th>TimePeriod</th>\n",
       "      <th></th>\n",
       "      <th></th>\n",
       "    </tr>\n",
       "  </thead>\n",
       "  <tbody>\n",
       "    <tr>\n",
       "      <th>2020-01-01</th>\n",
       "      <td>Alabama</td>\n",
       "      <td>45031.0</td>\n",
       "    </tr>\n",
       "    <tr>\n",
       "      <th>2020-04-01</th>\n",
       "      <td>Alabama</td>\n",
       "      <td>48797.0</td>\n",
       "    </tr>\n",
       "    <tr>\n",
       "      <th>2020-07-01</th>\n",
       "      <td>Alabama</td>\n",
       "      <td>46288.0</td>\n",
       "    </tr>\n",
       "    <tr>\n",
       "      <th>2020-10-01</th>\n",
       "      <td>Alabama</td>\n",
       "      <td>45736.0</td>\n",
       "    </tr>\n",
       "    <tr>\n",
       "      <th>2019-01-01</th>\n",
       "      <td>Alabama</td>\n",
       "      <td>43530.0</td>\n",
       "    </tr>\n",
       "    <tr>\n",
       "      <th>...</th>\n",
       "      <td>...</td>\n",
       "      <td>...</td>\n",
       "    </tr>\n",
       "    <tr>\n",
       "      <th>2017-04-01</th>\n",
       "      <td>Wyoming</td>\n",
       "      <td>56299.0</td>\n",
       "    </tr>\n",
       "    <tr>\n",
       "      <th>2017-07-01</th>\n",
       "      <td>Wyoming</td>\n",
       "      <td>57082.0</td>\n",
       "    </tr>\n",
       "    <tr>\n",
       "      <th>2017-10-01</th>\n",
       "      <td>Wyoming</td>\n",
       "      <td>58031.0</td>\n",
       "    </tr>\n",
       "    <tr>\n",
       "      <th>2021-01-01</th>\n",
       "      <td>Wyoming</td>\n",
       "      <td>68028.0</td>\n",
       "    </tr>\n",
       "    <tr>\n",
       "      <th>2021-04-01</th>\n",
       "      <td>Wyoming</td>\n",
       "      <td>63589.0</td>\n",
       "    </tr>\n",
       "  </tbody>\n",
       "</table>\n",
       "<p>864 rows × 2 columns</p>\n",
       "</div>"
      ],
      "text/plain": [
       "            GeoName  DataValue\n",
       "TimePeriod                    \n",
       "2020-01-01  Alabama    45031.0\n",
       "2020-04-01  Alabama    48797.0\n",
       "2020-07-01  Alabama    46288.0\n",
       "2020-10-01  Alabama    45736.0\n",
       "2019-01-01  Alabama    43530.0\n",
       "...             ...        ...\n",
       "2017-04-01  Wyoming    56299.0\n",
       "2017-07-01  Wyoming    57082.0\n",
       "2017-10-01  Wyoming    58031.0\n",
       "2021-01-01  Wyoming    68028.0\n",
       "2021-04-01  Wyoming    63589.0\n",
       "\n",
       "[864 rows x 2 columns]"
      ]
     },
     "execution_count": 101,
     "metadata": {},
     "output_type": "execute_result"
    }
   ],
   "source": [
    "# Setting the time period to be the index and converting the datatype from string to dateTime\n",
    "\n",
    "personal_income_filter_by_state = personal_income_filter_by_state.set_index('TimePeriod')\n",
    "personal_income_filter_by_state.index = pd.to_datetime(personal_income_filter_by_state.index)\n",
    "personal_income_filter_by_state"
   ]
  },
  {
   "cell_type": "code",
   "execution_count": null,
   "id": "d5acfb19-f58d-499b-998f-a1b239579dac",
   "metadata": {},
   "outputs": [],
   "source": [
    "# Group the data by state and calculate the average personal income for every year from 2017 to current year\n",
    "\n",
    "personal_income_filter_annual = personal_income_filter_by_state.groupby('GeoName').resample('A').mean()\n",
    "personal_income_filter_annual"
   ]
  },
  {
   "cell_type": "code",
   "execution_count": null,
   "id": "83c374e4-c2e2-40a4-9986-7c3770648e71",
   "metadata": {},
   "outputs": [],
   "source": []
  }
 ],
 "metadata": {
  "kernelspec": {
   "display_name": "Python (dev)",
   "language": "python",
   "name": "dev"
  },
  "language_info": {
   "codemirror_mode": {
    "name": "ipython",
    "version": 3
   },
   "file_extension": ".py",
   "mimetype": "text/x-python",
   "name": "python",
   "nbconvert_exporter": "python",
   "pygments_lexer": "ipython3",
   "version": "3.7.10"
  }
 },
 "nbformat": 4,
 "nbformat_minor": 5
}
