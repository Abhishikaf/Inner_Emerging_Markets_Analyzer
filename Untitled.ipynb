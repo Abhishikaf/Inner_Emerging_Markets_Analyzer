{
 "cells": [
  {
   "cell_type": "code",
   "execution_count": 4,
   "id": "2faa1172-5aaf-4974-bc2d-6fd69abcdb0d",
   "metadata": {},
   "outputs": [],
   "source": [
    "#import required libraries\n",
    "\n",
    "import os\n",
    "import requests\n",
    "import json\n",
    "import pandas as pd\n",
    "from dotenv import load_dotenv\n",
    "\n",
    "%matplotlib inline"
   ]
  },
  {
   "cell_type": "code",
   "execution_count": 7,
   "id": "d07ecae3-c70e-4fd4-86a6-dc7c0408d030",
   "metadata": {},
   "outputs": [
    {
     "data": {
      "text/plain": [
       "True"
      ]
     },
     "execution_count": 7,
     "metadata": {},
     "output_type": "execute_result"
    }
   ],
   "source": [
    "#load the API keys stored in .env file\n",
    "load_dotenv()"
   ]
  },
  {
   "cell_type": "code",
   "execution_count": 3,
   "id": "184db331-93c6-42b0-a51f-909ed810c261",
   "metadata": {},
   "outputs": [],
   "source": [
    "# https://apps.bea.gov/api/signup/index.cfm to signup for API key for Bureau of Economic Analysis\n",
    "\n",
    "# https://apps.bea.gov/api/_pdf/bea_web_service_api_user_guide.pdf for user guide"
   ]
  },
  {
   "cell_type": "code",
   "execution_count": 12,
   "id": "a7d45b78-efcc-4566-bd1e-848fc210eb2c",
   "metadata": {},
   "outputs": [],
   "source": [
    "#get BEA API key from .env file\n",
    "bea_api_key=os.getenv(\"BEA_API_KEY\")"
   ]
  },
  {
   "cell_type": "code",
   "execution_count": 13,
   "id": "a63fe372-8db8-4f5c-b47b-4a37adeea256",
   "metadata": {},
   "outputs": [],
   "source": [
    "bea_url = \"http://apps.bea.gov/api/data?UserID=\" + bea_api_key + \"&method=GETDATASETLIST&ResultFormat=JSON\" "
   ]
  },
  {
   "cell_type": "code",
   "execution_count": 14,
   "id": "9ae14d8d-1bdc-4dae-b7a6-eb09579a98f6",
   "metadata": {},
   "outputs": [],
   "source": [
    "bea_response = requests.get(bea_url).json()"
   ]
  },
  {
   "cell_type": "code",
   "execution_count": 15,
   "id": "1b684eb9-4aa4-49c7-a708-215ba4ce6b58",
   "metadata": {},
   "outputs": [
    {
     "data": {
      "text/plain": [
       "{'BEAAPI': {'Request': {'RequestParam': [{'ParameterName': 'RESULTFORMAT',\n",
       "     'ParameterValue': 'JSON'},\n",
       "    {'ParameterName': 'USERID',\n",
       "     'ParameterValue': '292E6FD2-D38B-4DFF-BD40-16F6A4329526'},\n",
       "    {'ParameterName': 'METHOD', 'ParameterValue': 'GETDATASETLIST'}]},\n",
       "  'Results': {'Dataset': [{'DatasetName': 'NIPA',\n",
       "     'DatasetDescription': 'Standard NIPA tables'},\n",
       "    {'DatasetName': 'NIUnderlyingDetail',\n",
       "     'DatasetDescription': 'Standard NI underlying detail tables'},\n",
       "    {'DatasetName': 'MNE', 'DatasetDescription': 'Multinational Enterprises'},\n",
       "    {'DatasetName': 'FixedAssets',\n",
       "     'DatasetDescription': 'Standard Fixed Assets tables'},\n",
       "    {'DatasetName': 'ITA',\n",
       "     'DatasetDescription': 'International Transactions Accounts'},\n",
       "    {'DatasetName': 'IIP',\n",
       "     'DatasetDescription': 'International Investment Position'},\n",
       "    {'DatasetName': 'InputOutput', 'DatasetDescription': 'Input-Output Data'},\n",
       "    {'DatasetName': 'IntlServTrade',\n",
       "     'DatasetDescription': 'International Services Trade'},\n",
       "    {'DatasetName': 'GDPbyIndustry', 'DatasetDescription': 'GDP by Industry'},\n",
       "    {'DatasetName': 'Regional', 'DatasetDescription': 'Regional data sets'},\n",
       "    {'DatasetName': 'UnderlyingGDPbyIndustry',\n",
       "     'DatasetDescription': 'Underlying GDP by Industry'},\n",
       "    {'DatasetName': 'APIDatasetMetaData',\n",
       "     'DatasetDescription': 'Metadata about other API datasets'}]}}}"
      ]
     },
     "execution_count": 15,
     "metadata": {},
     "output_type": "execute_result"
    }
   ],
   "source": [
    "bea_response"
   ]
  },
  {
   "cell_type": "code",
   "execution_count": 16,
   "id": "1254312e-b69f-4461-a02d-7870aff0fffd",
   "metadata": {},
   "outputs": [],
   "source": [
    "bea_regional_url = \"http://apps.bea.gov/api/data?UserID=\" + bea_api_key + \"&method=getparameterlist&datasetname=Regional&ResultFormat=JSON\" "
   ]
  },
  {
   "cell_type": "code",
   "execution_count": 19,
   "id": "04f29689-1be0-4440-8dc3-eeae6cc1f744",
   "metadata": {},
   "outputs": [],
   "source": [
    "bea_regional_response = requests.get(bea_regional_url).json()"
   ]
  },
  {
   "cell_type": "code",
   "execution_count": 20,
   "id": "6ef1522b-4661-4d52-84e1-7ed460a244dc",
   "metadata": {},
   "outputs": [
    {
     "data": {
      "text/plain": [
       "{'BEAAPI': {'Request': {'RequestParam': [{'ParameterName': 'METHOD',\n",
       "     'ParameterValue': 'GETPARAMETERLIST'},\n",
       "    {'ParameterName': 'USERID',\n",
       "     'ParameterValue': '292E6FD2-D38B-4DFF-BD40-16F6A4329526'},\n",
       "    {'ParameterName': 'RESULTFORMAT', 'ParameterValue': 'JSON'},\n",
       "    {'ParameterName': 'DATASETNAME', 'ParameterValue': 'REGIONAL'}]},\n",
       "  'Results': {'Parameter': [{'ParameterName': 'GeoFips',\n",
       "     'ParameterDataType': 'string',\n",
       "     'ParameterDescription': 'Comma-delimited list of 5-character geographic codes; COUNTY for all counties, STATE for all states, MSA for all MSAs, MIC for all Micropolitan Areas, PORT for all state metro/nonmetro portions, DIV for all Metropolitan Divisions, CSA for all Combined Statistical Areas, state post office abbreviation for all counties in one state (e.g. NY)',\n",
       "     'ParameterIsRequiredFlag': '1',\n",
       "     'MultipleAcceptedFlag': '1'},\n",
       "    {'ParameterName': 'LineCode',\n",
       "     'ParameterDataType': 'integer',\n",
       "     'ParameterDescription': 'Line code for a statistic or industry',\n",
       "     'ParameterIsRequiredFlag': '1',\n",
       "     'MultipleAcceptedFlag': '0'},\n",
       "    {'ParameterName': 'TableName',\n",
       "     'ParameterDataType': 'string',\n",
       "     'ParameterDescription': 'Regional income or product table to retrieve',\n",
       "     'ParameterIsRequiredFlag': '1',\n",
       "     'ParameterDefaultValue': '',\n",
       "     'MultipleAcceptedFlag': '0'},\n",
       "    {'ParameterName': 'Year',\n",
       "     'ParameterDataType': 'string',\n",
       "     'ParameterDescription': 'Comma-delimted list of years; LAST5 for latest 5 years; LAST10 for latest 10 years; ALL for all years',\n",
       "     'ParameterIsRequiredFlag': '0',\n",
       "     'ParameterDefaultValue': 'LAST5',\n",
       "     'MultipleAcceptedFlag': '1'}]}}}"
      ]
     },
     "execution_count": 20,
     "metadata": {},
     "output_type": "execute_result"
    }
   ],
   "source": [
    "bea_regional_response"
   ]
  },
  {
   "cell_type": "code",
   "execution_count": null,
   "id": "95292944-8022-44db-b883-0e3b5db5ffd7",
   "metadata": {},
   "outputs": [],
   "source": [
    "                "
   ]
  }
 ],
 "metadata": {
  "kernelspec": {
   "display_name": "Python (dev)",
   "language": "python",
   "name": "dev"
  },
  "language_info": {
   "codemirror_mode": {
    "name": "ipython",
    "version": 3
   },
   "file_extension": ".py",
   "mimetype": "text/x-python",
   "name": "python",
   "nbconvert_exporter": "python",
   "pygments_lexer": "ipython3",
   "version": "3.7.10"
  }
 },
 "nbformat": 4,
 "nbformat_minor": 5
}
