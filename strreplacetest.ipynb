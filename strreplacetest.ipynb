{
 "cells": [
  {
   "cell_type": "code",
   "execution_count": 20,
   "id": "e51d6b61-986d-43f8-a088-ab8c42023d0a",
   "metadata": {},
   "outputs": [],
   "source": [
    "str = \"2020Q4\""
   ]
  },
  {
   "cell_type": "code",
   "execution_count": 21,
   "id": "685075a3-e669-40a4-8f9c-bdd397224977",
   "metadata": {},
   "outputs": [],
   "source": [
    "if 'Q1' in str:\n",
    "        str=float(str.replace('Q1', \".25\"))\n",
    "elif 'Q2' in str:\n",
    "        str=float(str.replace('Q2', \".5\"))\n",
    "elif 'Q3' in str:\n",
    "        str=float(str.replace('Q3', \".75\"))\n",
    "elif 'Q4' in str:\n",
    "        str=float(str.replace('Q4', \"\")) + 1"
   ]
  },
  {
   "cell_type": "code",
   "execution_count": 22,
   "id": "0557658b-5e78-4ddf-84bf-c19941d8b247",
   "metadata": {},
   "outputs": [
    {
     "data": {
      "text/plain": [
       "2021.0"
      ]
     },
     "execution_count": 22,
     "metadata": {},
     "output_type": "execute_result"
    }
   ],
   "source": [
    "str"
   ]
  },
  {
   "cell_type": "code",
   "execution_count": 23,
   "id": "605f23cb-9fe1-4c08-850e-4f99acde5410",
   "metadata": {},
   "outputs": [],
   "source": [
    "str = \"2020Q2\""
   ]
  },
  {
   "cell_type": "code",
   "execution_count": 24,
   "id": "4ca346ce-726a-48b0-8a73-ef7edcd7b481",
   "metadata": {},
   "outputs": [],
   "source": [
    "if 'Q1' in str:\n",
    "        str=float(str.replace('Q1', \".25\"))\n",
    "elif 'Q2' in str:\n",
    "        str=float(str.replace('Q2', \".5\"))\n",
    "elif 'Q3' in str:\n",
    "        str=float(str.replace('Q3', \".75\"))\n",
    "elif 'Q4' in str:\n",
    "        str=float(str.replace('Q4', \"\")) + 1"
   ]
  },
  {
   "cell_type": "code",
   "execution_count": 25,
   "id": "8ea2bb6b-30bd-4589-a9a1-3a9392f5750e",
   "metadata": {},
   "outputs": [
    {
     "data": {
      "text/plain": [
       "2020.5"
      ]
     },
     "execution_count": 25,
     "metadata": {},
     "output_type": "execute_result"
    }
   ],
   "source": [
    "str"
   ]
  },
  {
   "cell_type": "code",
   "execution_count": null,
   "id": "fe7a3a38-827f-4c39-ac20-e4f0329f3585",
   "metadata": {},
   "outputs": [],
   "source": []
  }
 ],
 "metadata": {
  "kernelspec": {
   "display_name": "Python (dev)",
   "language": "python",
   "name": "dev"
  },
  "language_info": {
   "codemirror_mode": {
    "name": "ipython",
    "version": 3
   },
   "file_extension": ".py",
   "mimetype": "text/x-python",
   "name": "python",
   "nbconvert_exporter": "python",
   "pygments_lexer": "ipython3",
   "version": "3.7.10"
  }
 },
 "nbformat": 4,
 "nbformat_minor": 5
}
